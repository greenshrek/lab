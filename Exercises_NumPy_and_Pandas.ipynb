{
 "cells": [
  {
   "cell_type": "code",
   "execution_count": 1,
   "metadata": {},
   "outputs": [
    {
     "name": "stdout",
     "output_type": "stream",
     "text": [
      "[Year, Month, Total Rainfall, Most Rainfall in a Day, Number of Rain days]\n",
      "Maximum Most Rainfall in a Day:  86.7\n",
      "Average ‘Most Rainfall in a Day’:  22.9105\n",
      "available years\n",
      "[1962 1963 1964 1965 1966 1967 1968 1969 1970 1971 1972 1973 1974 1975\n",
      " 1976 1977 1978 1979 1980 1981 1982 1983 1984 1985 1986 1987 1988 1989\n",
      " 1990 1991 1992 1993 1994 1995 1996 1997 1998 1999 2000 2001 2002 2003\n",
      " 2004 2005 2006 2007 2008 2009 2010 2011]\n",
      "193.0\n",
      "Wettest month: \n",
      "January\n"
     ]
    }
   ],
   "source": [
    "import numpy as np\n",
    "from common import switch_case\n",
    "\n",
    "\n",
    "#Question 1 - \n",
    "# Numerical Analysis Exercises using NumPy – Rainfall Dataset\n",
    "\n",
    "\n",
    "# import the monthly average values from `CorkRainfall.txt` as a numpy array\n",
    "cork_rainfall = np.loadtxt(fname = \"/Users/pranavsrivastava/Documents/Studydesk/CIT/SEM1/Practical Machine Learning/lab/week2/datasets/CorkRainfall.txt\")\n",
    "\n",
    "#(i) Print out the max ‘Most Rainfall in a Day’ value and the average ‘Most Rainfall in a Day’ value for the Cork data (that is, obtain the maximum value contained in this column of data and the average value in this column of data).\n",
    "\n",
    "#print(\"avg_monthly_precip>>>\",avg_monthly_precip)\n",
    "print(\"[Year, Month, Total Rainfall, Most Rainfall in a Day, Number of Rain days]\")\n",
    "\n",
    "#max ‘Most Rainfall in a Day’ value \n",
    "max_most_rainfall = np.amax(cork_rainfall[:,3], axis=0)\n",
    "print(\"Maximum Most Rainfall in a Day: \",max_most_rainfall)\n",
    "\n",
    "\n",
    "#(ii) Display all unique years for which there is data in the dataset (you can use np.unique) Ask the user to select a specific year. You should then output the sum of the Rain Days column for that year (you do this by adding up the \"Number of rain days” for all 12 rows pertaining to the selected year).\n",
    "\n",
    "#average ‘Most Rainfall in a Day’ \n",
    "average_maxRainfall = np.mean(cork_rainfall[:,3], axis=0)\n",
    "print(\"Average ‘Most Rainfall in a Day’: \",average_maxRainfall)\n",
    "\n",
    "print(\"available years\")\n",
    "print(np.unique(cork_rainfall[:,0]).astype(int))\n",
    "\n",
    "#selected_year = int(input(\"Enter the year: \"))\n",
    "selected_year = 1962\n",
    "#output the sum of the Rain Days column for the year entered by user \n",
    "print(cork_rainfall[cork_rainfall[:, 0] == selected_year][:, 4].sum())\n",
    "\n",
    "#(iii) Calculate the wettest month of the year in Cork based using the “Total Rainfall” value. The month that has the highest cumulative “Total Rainfall” value across all years should be classified as the wettest.\n",
    "\n",
    "month_cum = np.empty(shape=[0])\n",
    "for i in range(0,12):\n",
    "    indices = np.arange(i,cork_rainfall.shape[0],12)\n",
    "    #cumulative for each month across all the years and stored in month_cum\n",
    "    month_cum = np.append(month_cum,[np.sum(np.take(cork_rainfall[:,2],indices))])\n",
    "#fetch the index value of month with highest cumulative\n",
    "result = np.where(month_cum == np.amax(month_cum))\n",
    "index=0\n",
    "print(\"Wettest month: \")\n",
    "while index<len(result):\n",
    "    print(switch_case(int(result[index])+1))\n",
    "    index+=1\n",
    "\n"
   ]
  },
  {
   "cell_type": "code",
   "execution_count": null,
   "metadata": {},
   "outputs": [],
   "source": []
  }
 ],
 "metadata": {
  "anaconda-cloud": {},
  "kernelspec": {
   "display_name": "Python 3",
   "language": "python",
   "name": "python3"
  },
  "language_info": {
   "codemirror_mode": {
    "name": "ipython",
    "version": 3
   },
   "file_extension": ".py",
   "mimetype": "text/x-python",
   "name": "python",
   "nbconvert_exporter": "python",
   "pygments_lexer": "ipython3",
   "version": "3.7.3"
  }
 },
 "nbformat": 4,
 "nbformat_minor": 1
}
